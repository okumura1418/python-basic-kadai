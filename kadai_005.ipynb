{
  "nbformat": 4,
  "nbformat_minor": 0,
  "metadata": {
    "colab": {
      "provenance": []
    },
    "kernelspec": {
      "name": "python3",
      "display_name": "Python 3"
    },
    "language_info": {
      "name": "python"
    }
  },
  "cells": [
    {
      "cell_type": "code",
      "execution_count": null,
      "metadata": {
        "id": "uxKZFTdioonF"
      },
      "outputs": [],
      "source": [
        "# 台形の寸法（単位：cm）\n",
        "upper_base = 10\n",
        "lower_base = 20\n",
        "height = 5\n",
        "\n",
        "# 面積の計算（公式：（上辺＋下辺）× 高さ ÷ 2）\n",
        "area = (upper_base + lower_base) * height / 2\n",
        "\n",
        "# 結果の出力（単位付き）\n",
        "print(f\"{area}cm²\")\n"
      ]
    }
  ]
}