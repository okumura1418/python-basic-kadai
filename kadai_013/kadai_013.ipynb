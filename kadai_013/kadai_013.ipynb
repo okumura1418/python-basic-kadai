{
  "nbformat": 4,
  "nbformat_minor": 0,
  "metadata": {
    "colab": {
      "provenance": []
    },
    "kernelspec": {
      "name": "python3",
      "display_name": "Python 3"
    },
    "language_info": {
      "name": "python"
    }
  },
  "cells": [
    {
      "cell_type": "code",
      "execution_count": null,
      "metadata": {
        "id": "2RQ_2IsqYdhp"
      },
      "outputs": [],
      "source": [
        "# 消費税込み金額を計算する関数を定義\n",
        "def calc_tax_included(price, tax_rate):\n",
        "    tax = price * tax_rate / 100\n",
        "    total = price + tax\n",
        "    return total\n",
        "\n",
        "# 商品の金額と消費税率を指定して関数を呼び出す\n",
        "price = 110\n",
        "tax_rate = 10\n",
        "\n",
        "# 関数の実行結果を受け取る\n",
        "result = calc_tax_included(price, tax_rate)\n",
        "\n",
        "# 結果を表示\n",
        "print(\"消費税込みの金額は\", result, \"円です。\")\n"
      ]
    }
  ]
}