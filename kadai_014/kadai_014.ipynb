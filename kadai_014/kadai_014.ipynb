{
  "nbformat": 4,
  "nbformat_minor": 0,
  "metadata": {
    "colab": {
      "provenance": []
    },
    "kernelspec": {
      "name": "python3",
      "display_name": "Python 3"
    },
    "language_info": {
      "name": "python"
    }
  },
  "cells": [
    {
      "cell_type": "code",
      "execution_count": null,
      "metadata": {
        "id": "I8nGCkMSaNPx"
      },
      "outputs": [],
      "source": [
        "price1 = 100\n",
        "price2 = 200\n",
        "tax = 1.1  # グローバルスコープ：関数の外で定義\n",
        "\n",
        "def total():\n",
        "    return price1 + price2  # price1, price2 もグローバル変数\n",
        "\n",
        "print(total() * tax)  # どれもグローバルスコープで使用可能\n"
      ]
    }
  ]
}