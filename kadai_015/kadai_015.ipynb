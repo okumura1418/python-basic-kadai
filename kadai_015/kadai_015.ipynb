{
  "nbformat": 4,
  "nbformat_minor": 0,
  "metadata": {
    "colab": {
      "provenance": []
    },
    "kernelspec": {
      "name": "python3",
      "display_name": "Python 3"
    },
    "language_info": {
      "name": "python"
    }
  },
  "cells": [
    {
      "cell_type": "code",
      "execution_count": null,
      "metadata": {
        "id": "Bg-tckdGbi0K"
      },
      "outputs": [],
      "source": [
        "# 1. Humanクラスの定義（nameとageを属性として持つ）\n",
        "class Human:\n",
        "    def __init__(self, name, age):\n",
        "        self.name = name  # 名前の属性\n",
        "        self.age = age    # 年齢の属性\n",
        "\n",
        "    # 3. 名前と年齢を出力するメソッド\n",
        "    def printinfo(self):\n",
        "        print(f\"名前: {self.name}\")\n",
        "        print(f\"年齢: {self.age}歳\")\n",
        "\n",
        "\n",
        "# 2. Humanクラスのインスタンスを変数に代入\n",
        "person = Human(\"山田花子\", 25)\n",
        "\n",
        "# 3. クラスのメソッドを使用して出力\n",
        "person.printinfo()\n"
      ]
    }
  ]
}