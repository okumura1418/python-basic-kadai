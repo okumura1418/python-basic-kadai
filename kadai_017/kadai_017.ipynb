{
  "nbformat": 4,
  "nbformat_minor": 0,
  "metadata": {
    "colab": {
      "provenance": []
    },
    "kernelspec": {
      "name": "python3",
      "display_name": "Python 3"
    },
    "language_info": {
      "name": "python"
    }
  },
  "cells": [
    {
      "cell_type": "code",
      "execution_count": null,
      "metadata": {
        "id": "QRgccSyDcuWr"
      },
      "outputs": [],
      "source": [
        "# Humanクラスの定義\n",
        "class Human:\n",
        "    def __init__(self, name, age):\n",
        "        self.name = name  # 名前（インスタンス変数）\n",
        "        self.age = age    # 年齢（インスタンス変数）\n",
        "\n",
        "    def check_adult(self):  # 大人かどうかを判定して表示するメソッド\n",
        "        if self.age >= 20:\n",
        "            print(f\"{self.name}さん（{self.age}歳）は大人です。\")\n",
        "        else:\n",
        "            print(f\"{self.name}さん（{self.age}歳）は大人ではありません。\")\n",
        "\n",
        "\n",
        "# 複数のHumanインスタンスを作成し、リストに追加\n",
        "def main():\n",
        "    people_list = []  # リストの定義（スコープ：main関数内）\n",
        "\n",
        "    # データ（ディクショナリ）を使ってHumanインスタンスを作成\n",
        "    people_data = [\n",
        "        {\"name\": \"山田太郎\", \"age\": 25},\n",
        "        {\"name\": \"佐藤花子\", \"age\": 18},\n",
        "        {\"name\": \"鈴木次郎\", \"age\": 30},\n",
        "        {\"name\": \"田中美咲\", \"age\": 15}\n",
        "    ]\n",
        "\n",
        "    # Humanインスタンスを生成してリストに追加（繰り返し処理）\n",
        "    for data in people_data:\n",
        "        person = Human(data[\"name\"], data[\"age\"])\n",
        "        people_list.append(person)\n",
        "\n",
        "    # 各インスタンスに対してcheck_adultメソッドを呼び出す\n",
        "    for person in people_list:\n",
        "        person.check_adult()\n",
        "\n",
        "\n",
        "# プログラムの実行（関数の呼び出し）\n",
        "main()\n"
      ]
    }
  ]
}